{
  "nbformat": 4,
  "nbformat_minor": 0,
  "metadata": {
    "colab": {
      "name": "Random_Forest.ipynb",
      "provenance": [],
      "authorship_tag": "ABX9TyOZub6pxBSlIQ6YoDTTwIFp",
      "include_colab_link": true
    },
    "kernelspec": {
      "name": "python3",
      "display_name": "Python 3"
    },
    "language_info": {
      "name": "python"
    }
  },
  "cells": [
    {
      "cell_type": "markdown",
      "metadata": {
        "id": "view-in-github",
        "colab_type": "text"
      },
      "source": [
        "<a href=\"https://colab.research.google.com/github/EnsiyehRaoufi/ML_Models_Linear_treebased_XGBoost__AutoGluon/blob/main/Random_Forest.ipynb\" target=\"_parent\"><img src=\"https://colab.research.google.com/assets/colab-badge.svg\" alt=\"Open In Colab\"/></a>"
      ]
    },
    {
      "cell_type": "code",
      "execution_count": 4,
      "metadata": {
        "colab": {
          "base_uri": "https://localhost:8080/"
        },
        "id": "5ummOQT5c97E",
        "outputId": "09d1e2c8-bad4-4c0c-8689-bde7279caf3f"
      },
      "outputs": [
        {
          "output_type": "stream",
          "name": "stdout",
          "text": [
            "Score :  1.0\n",
            "predict [0]\n"
          ]
        }
      ],
      "source": [
        "import pandas as pd\n",
        "from sklearn.ensemble import RandomForestClassifier\n",
        "\n",
        "df = pd.DataFrame(\n",
        "    [[1, 2, 0], [3, 4, 1], [5, 6, 0], [7, 8, 1]],\n",
        "    columns=[\"num\", \"amount\", \"target\"]\n",
        ")\n",
        "\n",
        "clf = RandomForestClassifier().fit(df[[\"num\", \"amount\"]], df[\"target\"])\n",
        "\n",
        "print(\"Score : \", clf.score(df[[\"num\", \"amount\"]], df[\"target\"]))\n",
        "\n",
        "\n",
        "print(\"predict\", clf.predict(pd.DataFrame(\n",
        "    [[1, 2]],\n",
        "    columns=[\"num\", \"amount\"])))\n"
      ]
    },
    {
      "cell_type": "code",
      "source": [
        "clf.predict([[1, 2]])"
      ],
      "metadata": {
        "colab": {
          "base_uri": "https://localhost:8080/"
        },
        "id": "c-WXYeIag6Cq",
        "outputId": "77ced052-3a8f-4387-9983-a18dd25fa205"
      },
      "execution_count": 5,
      "outputs": [
        {
          "output_type": "stream",
          "name": "stderr",
          "text": [
            "/usr/local/lib/python3.7/dist-packages/sklearn/base.py:446: UserWarning: X does not have valid feature names, but RandomForestClassifier was fitted with feature names\n",
            "  \"X does not have valid feature names, but\"\n"
          ]
        },
        {
          "output_type": "execute_result",
          "data": {
            "text/plain": [
              "array([0])"
            ]
          },
          "metadata": {},
          "execution_count": 5
        }
      ]
    }
  ]
}