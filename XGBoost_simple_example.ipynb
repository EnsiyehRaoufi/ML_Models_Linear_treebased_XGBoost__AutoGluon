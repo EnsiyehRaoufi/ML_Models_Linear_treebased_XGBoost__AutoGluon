{
  "nbformat": 4,
  "nbformat_minor": 0,
  "metadata": {
    "colab": {
      "name": "XGBoost_simple_example.ipynb",
      "provenance": [],
      "authorship_tag": "ABX9TyOK8P2He1wXVf+k/Z1wkP00",
      "include_colab_link": true
    },
    "kernelspec": {
      "name": "python3",
      "display_name": "Python 3"
    },
    "language_info": {
      "name": "python"
    }
  },
  "cells": [
    {
      "cell_type": "markdown",
      "metadata": {
        "id": "view-in-github",
        "colab_type": "text"
      },
      "source": [
        "<a href=\"https://colab.research.google.com/github/EnsiyehRaoufi/ML_Models_Linear_treebased_XGBoost__AutoGluon/blob/main/XGBoost_simple_example.ipynb\" target=\"_parent\"><img src=\"https://colab.research.google.com/assets/colab-badge.svg\" alt=\"Open In Colab\"/></a>"
      ]
    },
    {
      "cell_type": "code",
      "source": [
        "import pandas as pd\n",
        "import xgboost as xgb"
      ],
      "metadata": {
        "id": "ETN5Mg0QjU4l"
      },
      "execution_count": 2,
      "outputs": []
    },
    {
      "cell_type": "code",
      "execution_count": 3,
      "metadata": {
        "colab": {
          "base_uri": "https://localhost:8080/"
        },
        "id": "IIX9XplQiPxq",
        "outputId": "cffa2fd4-e82f-4ef9-99de-0f0ee817acbb"
      },
      "outputs": [
        {
          "output_type": "execute_result",
          "data": {
            "text/plain": [
              "array([0., 1., 0., 1.], dtype=float32)"
            ]
          },
          "metadata": {},
          "execution_count": 3
        }
      ],
      "source": [
        "#Create a data frame\n",
        "df = pd.DataFrame(\n",
        "    [[1, 2, 0], [3, 4, 1], [5, 6, 0], [7, 8, 1]],\n",
        "    columns=[\"num\", \"amount\", \"target\"]\n",
        ")\n",
        "\n",
        "#Create xgboost data matrix from df\n",
        "df_xgb = xgb.DMatrix(\n",
        "    df[[\"num\", \"amount\"]], label=df[\"target\"]\n",
        ")\n",
        "\n",
        "#Train model with binary classification params\n",
        "params = {\"eval_metric\": \"logloss\", \"objective\": \"binary:hinge\"}\n",
        "bst = xgb.train(params, df_xgb)\n",
        "\n",
        "#Predict target values from feature matrix\n",
        "bst.predict(df_xgb)\n"
      ]
    },
    {
      "cell_type": "code",
      "source": [
        ""
      ],
      "metadata": {
        "id": "IDqY8NNEkHIG"
      },
      "execution_count": null,
      "outputs": []
    }
  ]
}